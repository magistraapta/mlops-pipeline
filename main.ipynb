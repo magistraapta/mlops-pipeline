{
  "nbformat": 4,
  "nbformat_minor": 0,
  "metadata": {
    "colab": {
      "provenance": []
    },
    "kernelspec": {
      "name": "python3",
      "display_name": "Python 3"
    },
    "language_info": {
      "name": "python"
    }
  },
  "cells": [
    {
      "cell_type": "code",
      "source": [
        "import os\n",
        "from tfx.orchestration.beam.beam_dag_runner import BeamDagRunner\n",
        "from modules.pipeline import init_local_pipeline\n",
        "from modules.components import init_components\n",
        "\n",
        "PIPELINE_NAME = \"email-classifier-pipeline\"\n",
        "\n",
        "# pipeline inputs\n",
        "DATA_ROOT = \"data\"\n",
        "TRANSFORM_MODULE_FILE = \"modules/transform.py\"\n",
        "TRAINER_MODULE_FILE = \"modules/trainer.py\"\n",
        "# requirement_file = os.path.join(root, \"requirements.txt\")\n",
        "\n",
        "# pipeline outputs\n",
        "OUTPUT_BASE = \"output\"\n",
        "serving_model_dir = os.path.join(OUTPUT_BASE, 'serving_model')\n",
        "pipeline_root = os.path.join(OUTPUT_BASE, PIPELINE_NAME)\n",
        "metadata_path = os.path.join(pipeline_root, \"metadata.sqlite\")"
      ],
      "metadata": {
        "id": "c8Y-7t1Z_hys"
      },
      "execution_count": 18,
      "outputs": []
    },
    {
      "cell_type": "code",
      "source": [
        "components = init_components(\n",
        "    DATA_ROOT,\n",
        "    training_module=TRAINER_MODULE_FILE,\n",
        "    transform_module=TRANSFORM_MODULE_FILE,\n",
        "    training_steps=5000,\n",
        "    eval_steps=1000,\n",
        "    serving_model_dir=serving_model_dir,\n",
        ")\n",
        "\n",
        "pipeline = init_local_pipeline(components, pipeline_root)\n",
        "BeamDagRunner().run(pipeline=pipeline)"
      ],
      "metadata": {
        "id": "n2zWqNuL_yUZ"
      },
      "execution_count": null,
      "outputs": []
    },
    {
      "cell_type": "code",
      "source": [],
      "metadata": {
        "id": "RxwTOwrMCMgx"
      },
      "execution_count": null,
      "outputs": []
    }
  ]
}